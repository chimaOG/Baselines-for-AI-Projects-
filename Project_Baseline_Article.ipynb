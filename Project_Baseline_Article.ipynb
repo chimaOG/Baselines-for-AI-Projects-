{
  "nbformat": 4,
  "nbformat_minor": 0,
  "metadata": {
    "colab": {
      "name": "Project_Baseline_Article.ipynb",
      "provenance": [],
      "collapsed_sections": []
    },
    "kernelspec": {
      "name": "python3",
      "display_name": "Python 3"
    },
    "accelerator": "GPU"
  },
  "cells": [
    {
      "cell_type": "markdown",
      "metadata": {
        "id": "GZWrjAszKSRq"
      },
      "source": [
        "**Install Relevant Libraries and Mount Google Drive**"
      ]
    },
    {
      "cell_type": "code",
      "metadata": {
        "id": "dcUlmBmYUgL6"
      },
      "source": [
        "#Add the link to the article here"
      ],
      "execution_count": null,
      "outputs": []
    },
    {
      "cell_type": "code",
      "metadata": {
        "id": "PF_aUZO8qBoX",
        "colab": {
          "base_uri": "https://localhost:8080/"
        },
        "outputId": "3a22aaf9-1ff6-4cb0-ddd1-c7027fe7b16e"
      },
      "source": [
        "from google.colab import drive\n",
        "drive.mount('/content/drive')\n",
        "\n"
      ],
      "execution_count": null,
      "outputs": [
        {
          "output_type": "stream",
          "text": [
            "Mounted at /content/drive\n"
          ],
          "name": "stdout"
        }
      ]
    },
    {
      "cell_type": "code",
      "metadata": {
        "id": "0FxCCb_cfFLq"
      },
      "source": [
        "#Import Relevant Libraries \n",
        "#hide\n",
        "!pip install -Uqq fastbook\n",
        "import fastbook\n",
        "fastbook.setup_book()\n",
        "\n",
        "from fastbook import *\n",
        "from statistics import mean\n",
        "\n"
      ],
      "execution_count": null,
      "outputs": []
    },
    {
      "cell_type": "markdown",
      "metadata": {
        "id": "_kNdhrHRKcy9"
      },
      "source": [
        "**Import Data**"
      ]
    },
    {
      "cell_type": "code",
      "metadata": {
        "colab": {
          "base_uri": "https://localhost:8080/",
          "height": 17
        },
        "id": "kfb-aHJrDvt7",
        "outputId": "65335450-188f-4a6a-f8f3-a43b7d6420a5"
      },
      "source": [
        "path = untar_data(URLs.MNIST_SAMPLE)"
      ],
      "execution_count": null,
      "outputs": [
        {
          "output_type": "display_data",
          "data": {
            "text/html": [
              ""
            ],
            "text/plain": [
              "<IPython.core.display.HTML object>"
            ]
          },
          "metadata": {
            "tags": []
          }
        }
      ]
    },
    {
      "cell_type": "code",
      "metadata": {
        "colab": {
          "base_uri": "https://localhost:8080/"
        },
        "id": "R3VW3QuvKf6S",
        "outputId": "b843acdc-c43f-4641-ff9e-439d944af374"
      },
      "source": [
        "#Create a list of paths for all the image files containes in the 3 & 7 folders\r\n",
        "\r\n",
        "threes = (path/'train'/'3').ls().sorted()\r\n",
        "sevens = (path/'train'/'7').ls().sorted()\r\n",
        "\r\n",
        "threes, sevens "
      ],
      "execution_count": null,
      "outputs": [
        {
          "output_type": "execute_result",
          "data": {
            "text/plain": [
              "((#6131) [Path('/root/.fastai/data/mnist_sample/train/3/10.png'),Path('/root/.fastai/data/mnist_sample/train/3/10000.png'),Path('/root/.fastai/data/mnist_sample/train/3/10011.png'),Path('/root/.fastai/data/mnist_sample/train/3/10031.png'),Path('/root/.fastai/data/mnist_sample/train/3/10034.png'),Path('/root/.fastai/data/mnist_sample/train/3/10042.png'),Path('/root/.fastai/data/mnist_sample/train/3/10052.png'),Path('/root/.fastai/data/mnist_sample/train/3/1007.png'),Path('/root/.fastai/data/mnist_sample/train/3/10074.png'),Path('/root/.fastai/data/mnist_sample/train/3/10091.png')...],\n",
              " (#6265) [Path('/root/.fastai/data/mnist_sample/train/7/10002.png'),Path('/root/.fastai/data/mnist_sample/train/7/1001.png'),Path('/root/.fastai/data/mnist_sample/train/7/10014.png'),Path('/root/.fastai/data/mnist_sample/train/7/10019.png'),Path('/root/.fastai/data/mnist_sample/train/7/10039.png'),Path('/root/.fastai/data/mnist_sample/train/7/10046.png'),Path('/root/.fastai/data/mnist_sample/train/7/10050.png'),Path('/root/.fastai/data/mnist_sample/train/7/10063.png'),Path('/root/.fastai/data/mnist_sample/train/7/10077.png'),Path('/root/.fastai/data/mnist_sample/train/7/10086.png')...])"
            ]
          },
          "metadata": {
            "tags": []
          },
          "execution_count": 4
        }
      ]
    },
    {
      "cell_type": "code",
      "metadata": {
        "colab": {
          "base_uri": "https://localhost:8080/",
          "height": 45
        },
        "id": "EBFnnA_1b6m6",
        "outputId": "9659809f-edbe-410c-9d6a-8ae5e796c28b"
      },
      "source": [
        "#Open an image from the list of images for the digit 7\r\n",
        "\r\n",
        "img_path = sevens[4]\r\n",
        "im3 = Image.open(img_path)\r\n",
        "im3"
      ],
      "execution_count": null,
      "outputs": [
        {
          "output_type": "execute_result",
          "data": {
            "image/png": "[encoded data removed]",
            "text/plain": [
              "<PIL.PngImagePlugin.PngImageFile image mode=L size=28x28 at 0x7F5E3124DD68>"
            ]
          },
          "metadata": {
            "tags": []
          },
          "execution_count": 5
        }
      ]
    },
    {
      "cell_type": "markdown",
      "metadata": {
        "id": "iqGtfUbBCQb0"
      },
      "source": [
        "**Pixel Similarity Classification Method**"
      ]
    },
    {
      "cell_type": "code",
      "metadata": {
        "id": "qrM7fqaWb6ZI",
        "colab": {
          "base_uri": "https://localhost:8080/"
        },
        "outputId": "fb9c363c-10fc-444c-f2c3-855050566429"
      },
      "source": [
        "#Use the list of images to import the image arrays for 3's and 7's, \r\n",
        "#the arrays are converted to tensors\r\n",
        "\r\n",
        "seven_tensors = [tensor(Image.open(o)) for o in sevens]\r\n",
        "three_tensors = [tensor(Image.open(o)) for o in threes]\r\n",
        "\r\n",
        "len(three_tensors), len(seven_tensors)\r\n"
      ],
      "execution_count": null,
      "outputs": [
        {
          "output_type": "execute_result",
          "data": {
            "text/plain": [
              "(6131, 6265)"
            ]
          },
          "metadata": {
            "tags": []
          },
          "execution_count": 6
        }
      ]
    },
    {
      "cell_type": "code",
      "metadata": {
        "id": "Upr4WIX_b6We",
        "colab": {
          "base_uri": "https://localhost:8080/",
          "height": 103
        },
        "outputId": "5e74e500-aa2a-464b-8bc7-82339bb9a40f"
      },
      "source": [
        "#Test the import by displaying pne of the images using a FastAI Method\r\n",
        " \r\n",
        "show_image(three_tensors[1])"
      ],
      "execution_count": null,
      "outputs": [
        {
          "output_type": "execute_result",
          "data": {
            "text/plain": [
              "<matplotlib.axes._subplots.AxesSubplot at 0x7f5e3105e940>"
            ]
          },
          "metadata": {
            "tags": []
          },
          "execution_count": 7
        },
        {
          "output_type": "display_data",
          "data": {
            "image/png": "[encoded data removed]",
            "text/plain": [
              "<Figure size 72x72 with 1 Axes>"
            ]
          },
          "metadata": {
            "tags": [],
            "needs_background": "light"
          }
        }
      ]
    },
    {
      "cell_type": "code",
      "metadata": {
        "id": "7msMnjWPb6TN",
        "colab": {
          "base_uri": "https://localhost:8080/"
        },
        "outputId": "69b0eedd-0158-41d3-aaea-4941349c81bf"
      },
      "source": [
        "#Convert list of tensors to a three-dimensional tensor\r\n",
        "\r\n",
        "stacked_sevens = torch.stack(seven_tensors).float()/255\r\n",
        "stacked_threes = torch.stack(three_tensors).float()/255\r\n",
        "\r\n",
        "stacked_threes.shape, stacked_sevens.shape"
      ],
      "execution_count": null,
      "outputs": [
        {
          "output_type": "execute_result",
          "data": {
            "text/plain": [
              "(torch.Size([6131, 28, 28]), torch.Size([6265, 28, 28]))"
            ]
          },
          "metadata": {
            "tags": []
          },
          "execution_count": 8
        }
      ]
    },
    {
      "cell_type": "code",
      "metadata": {
        "id": "HhCJmP62b6Qa",
        "colab": {
          "base_uri": "https://localhost:8080/",
          "height": 103
        },
        "outputId": "7d3022ac-ecc3-4b52-edb5-734a842389b2"
      },
      "source": [
        "#Find the ideal 3\r\n",
        "\r\n",
        "ideal3 = stacked_threes.mean(0)\r\n",
        "show_image(ideal3)"
      ],
      "execution_count": null,
      "outputs": [
        {
          "output_type": "execute_result",
          "data": {
            "text/plain": [
              "<matplotlib.axes._subplots.AxesSubplot at 0x7f5e30a27f60>"
            ]
          },
          "metadata": {
            "tags": []
          },
          "execution_count": 10
        },
        {
          "output_type": "display_data",
          "data": {
            "image/png": "[encoded data removed]",
            "text/plain": [
              "<Figure size 72x72 with 1 Axes>"
            ]
          },
          "metadata": {
            "tags": [],
            "needs_background": "light"
          }
        }
      ]
    },
    {
      "cell_type": "code",
      "metadata": {
        "colab": {
          "base_uri": "https://localhost:8080/",
          "height": 103
        },
        "id": "wJR1joRFIKTl",
        "outputId": "b8ef0fd5-897d-4178-96a0-cb5612202d84"
      },
      "source": [
        "#Find the ideal 7\r\n",
        "\r\n",
        "ideal7 = stacked_sevens.mean(0)\r\n",
        "show_image(ideal7)"
      ],
      "execution_count": null,
      "outputs": [
        {
          "output_type": "execute_result",
          "data": {
            "text/plain": [
              "<matplotlib.axes._subplots.AxesSubplot at 0x7f5e309d5160>"
            ]
          },
          "metadata": {
            "tags": []
          },
          "execution_count": 11
        },
        {
          "output_type": "display_data",
          "data": {
            "image/png": "[encoded data removed]",
            "text/plain": [
              "<Figure size 72x72 with 1 Axes>"
            ]
          },
          "metadata": {
            "tags": [],
            "needs_background": "light"
          }
        }
      ]
    },
    {
      "cell_type": "markdown",
      "metadata": {
        "id": "XZo6nmz5Eu-z"
      },
      "source": [
        "**Test Pixel Similarity Method on a Validation Set**"
      ]
    },
    {
      "cell_type": "code",
      "metadata": {
        "id": "gWrWXvlPIKKP",
        "colab": {
          "base_uri": "https://localhost:8080/"
        },
        "outputId": "1a85a229-81c0-46a4-d95f-b743bf626a23"
      },
      "source": [
        "#Import the validation data. Convert the arrays to tensor and stack into a 3D\r\n",
        "\r\n",
        "valid_3 = torch.stack([tensor(Image.open(o)) for o in (path/'valid'/'3').ls()])\r\n",
        "valid_3 = valid_3.float()/255\r\n",
        "\r\n",
        "valid_7 = torch.stack([tensor(Image.open(o)) for o in (path/'valid'/'7').ls()])\r\n",
        "valid_7 = valid_7.float()/255\r\n",
        "\r\n",
        "valid_3.shape,valid_7.shape"
      ],
      "execution_count": null,
      "outputs": [
        {
          "output_type": "execute_result",
          "data": {
            "text/plain": [
              "(torch.Size([1010, 28, 28]), torch.Size([1028, 28, 28]))"
            ]
          },
          "metadata": {
            "tags": []
          },
          "execution_count": 12
        }
      ]
    },
    {
      "cell_type": "code",
      "metadata": {
        "id": "pFzDGuEhIKHF"
      },
      "source": [
        "#Function to calculate distance between the tensors of 2 images \r\n",
        "\r\n",
        "def mnist_distance(a,b):\r\n",
        "  return (a-b).abs().mean((-1,-2))\r\n",
        "\r\n",
        "#Function to determine if the image is closer to a 3 or a 7\r\n",
        "\r\n",
        "def is_3 (x):\r\n",
        "  return mnist_distance(x,ideal3) < mnist_distance(x,ideal7)\r\n"
      ],
      "execution_count": null,
      "outputs": []
    },
    {
      "cell_type": "code",
      "metadata": {
        "id": "7ppDKg-lIJ-K",
        "colab": {
          "base_uri": "https://localhost:8080/"
        },
        "outputId": "5a57206e-8b21-45d6-ba44-fe0fabb0b6e4"
      },
      "source": [
        "#Apply the mnist distance across the validations set with broadcasting\r\n",
        "\r\n",
        "#Classify all images in the 3 folder, we know all image here are 3 so the percentage of True predictions is the accuracy\r\n",
        "accuracy_3s = is_3(valid_3).float().mean()\r\n",
        "\r\n",
        "#Classify all images in the 7 folder, the function returns false for 7's so we invert the boolean and use the percentage of True predictions is the accuracy\r\n",
        "accuracy_7s = (1-is_3(valid_7).float()).mean()\r\n",
        "\r\n",
        "overall_accuracy = (accuracy_7s+accuracy_3s)/2\r\n",
        "\r\n",
        "print(\"The accuracy for this method is: \", (100*overall_accuracy))"
      ],
      "execution_count": null,
      "outputs": [
        {
          "output_type": "stream",
          "text": [
            "The accuracy for this method is:  tensor(95.1120)\n"
          ],
          "name": "stdout"
        }
      ]
    },
    {
      "cell_type": "markdown",
      "metadata": {
        "id": "vkaj0z_2L0J8"
      },
      "source": [
        "**Partial pixel similarity using non-zero pixel values**"
      ]
    },
    {
      "cell_type": "code",
      "metadata": {
        "id": "RLYkOfIkLyik"
      },
      "source": [
        "#Splice out the bottom half of each image array in the training set\r\n",
        "\r\n",
        "half_seven_tensors = []\r\n",
        "half_three_tensors = []\r\n",
        "\r\n",
        "for i in range(len(seven_tensors)):\r\n",
        "  half_seven_tensors.append(seven_tensors[i][18:,4:22])\r\n",
        "\r\n",
        "for i in range(len(three_tensors)):\r\n",
        "  half_three_tensors.append(three_tensors[i][18:,4:22])"
      ],
      "execution_count": null,
      "outputs": []
    },
    {
      "cell_type": "code",
      "metadata": {
        "id": "FJwBl3ulLyaf"
      },
      "source": [
        "#Count the number of non-zero pixels in the training images \r\n",
        "\r\n",
        "seven_non_zero = []\r\n",
        "three_non_zero = []\r\n",
        "\r\n",
        "for i in range(len(seven_tensors)):\r\n",
        "   seven_non_zero.append(torch.count_nonzero(half_seven_tensors[i]))\r\n",
        "\r\n",
        "for j in range(len(three_tensors)):\r\n",
        "   three_non_zero.append(torch.count_nonzero(half_three_tensors[j]))"
      ],
      "execution_count": null,
      "outputs": []
    },
    {
      "cell_type": "code",
      "metadata": {
        "colab": {
          "base_uri": "https://localhost:8080/"
        },
        "id": "4qGE46x7LyWm",
        "outputId": "1171e498-292a-4bc6-e2c6-f7b9e3ff08e8"
      },
      "source": [
        "#Find the average number of non-zero elements in the lower half of 3's and 7's in the training set\r\n",
        "\r\n",
        "average_7 = float(sum(seven_non_zero)/len(seven_non_zero))\r\n",
        "average_3 = float(sum(three_non_zero)/len(three_non_zero))\r\n",
        "\r\n",
        "average_3,average_7"
      ],
      "execution_count": null,
      "outputs": [
        {
          "output_type": "execute_result",
          "data": {
            "text/plain": [
              "(55.027565002441406, 38.42793273925781)"
            ]
          },
          "metadata": {
            "tags": []
          },
          "execution_count": 37
        }
      ]
    },
    {
      "cell_type": "markdown",
      "metadata": {
        "id": "GeJK_hSGW6sS"
      },
      "source": [
        "**Test on a Validation Set**\r\n",
        "\r\n",
        "Also try varying the splitting of the original images"
      ]
    },
    {
      "cell_type": "code",
      "metadata": {
        "id": "mJYCVGugaB7Q",
        "colab": {
          "base_uri": "https://localhost:8080/"
        },
        "outputId": "9f1e64d9-a57c-4a46-81b8-53d5c026ca00"
      },
      "source": [
        "#Import validation set with the same split\r\n",
        "three_valid = (path/'valid'/'3').ls().sorted()\r\n",
        "seven_valid = (path/'valid'/'7').ls().sorted()\r\n",
        "\r\n",
        "\r\n",
        "sevens_valid = [tensor(Image.open(o)) for o in seven_valid]\r\n",
        "threes_valid = [tensor(Image.open(o)) for o in three_valid]\r\n",
        "\r\n",
        "len(threes_valid), len(sevens_valid)\r\n"
      ],
      "execution_count": null,
      "outputs": [
        {
          "output_type": "execute_result",
          "data": {
            "text/plain": [
              "(1010, 1028)"
            ]
          },
          "metadata": {
            "tags": []
          },
          "execution_count": 38
        }
      ]
    },
    {
      "cell_type": "code",
      "metadata": {
        "id": "5Q9oYY0Ui5kl"
      },
      "source": [
        "#Splice out the bottom half of each image array in the validation set\r\n",
        "\r\n",
        "for i in range(len(sevens_valid)):\r\n",
        "  seven_valid[i] = sevens_valid[i][18:,4:22]\r\n",
        "\r\n",
        "for i in range(len(threes_valid)):\r\n",
        "  three_valid[i] = threes_valid[i][18:,4:22]\r\n"
      ],
      "execution_count": null,
      "outputs": []
    },
    {
      "cell_type": "code",
      "metadata": {
        "id": "RXOgWwsZbG5u"
      },
      "source": [
        "#Count the number of non-zero pixel values for each image in the validation set\r\n",
        "\r\n",
        "valid3_non_zero = []\r\n",
        "valid7_non_zero = []\r\n",
        "\r\n",
        "for i in range(len(seven_valid)):\r\n",
        "   valid7_non_zero.append(int(torch.count_nonzero(seven_valid[i])))\r\n",
        "\r\n",
        "for j in range(len(three_valid)):\r\n",
        "   valid3_non_zero.append(int(torch.count_nonzero(three_valid[j])))"
      ],
      "execution_count": null,
      "outputs": []
    },
    {
      "cell_type": "code",
      "metadata": {
        "id": "j_8OgE0xLyTB"
      },
      "source": [
        "#Simple difference function to determine distance\r\n",
        "\r\n",
        "def simp_diff(a,b):\r\n",
        "  return abs(a-b)\r\n",
        "\r\n",
        "#Function to decide if it's a 3 or not\r\n",
        "def simp_is_3(x):\r\n",
        "  return simp_diff(x,average_3) < simp_diff(x, average_7)"
      ],
      "execution_count": null,
      "outputs": []
    },
    {
      "cell_type": "code",
      "metadata": {
        "id": "UHBb0ej-LyLL"
      },
      "source": [
        "#Apply distance functions to each value in the validation list and then compare the results \r\n",
        "\r\n",
        "#Classify all images in the 3 folder, we know all image here are 3 so the mean of True predictions is the accuracy\r\n",
        "pred_3 = [simp_is_3(i) for i in valid3_non_zero]\r\n",
        "pred_3_accuracy = mean(pred_3)\r\n",
        "\r\n",
        "#Classify all images in the 7 folder, the function returns false for 7's so we invert the boolean and use the percentage of True predictions as the accuracy\r\n",
        "pred_7 = [(1-simp_is_3(i)) for i in valid7_non_zero]\r\n",
        "pred_7_accuracy = mean(pred_7)\r\n",
        "\r\n",
        "avg_pred_accuracy = 0.5*(pred_3_accuracy + pred_7_accuracy)"
      ],
      "execution_count": null,
      "outputs": []
    },
    {
      "cell_type": "code",
      "metadata": {
        "colab": {
          "base_uri": "https://localhost:8080/"
        },
        "id": "sVIxQGtTCIWc",
        "outputId": "a993db29-a5d5-4981-a36b-2daaee53a237"
      },
      "source": [
        "pred_3_accuracy, pred_7_accuracy"
      ],
      "execution_count": null,
      "outputs": [
        {
          "output_type": "execute_result",
          "data": {
            "text/plain": [
              "(0.7762376237623763, 0.8278210116731517)"
            ]
          },
          "metadata": {
            "tags": []
          },
          "execution_count": 49
        }
      ]
    },
    {
      "cell_type": "code",
      "metadata": {
        "id": "c0RywuH4LyBL",
        "colab": {
          "base_uri": "https://localhost:8080/"
        },
        "outputId": "e4c9efba-8a46-41db-93eb-a72020c1f405"
      },
      "source": [
        "print(\"The accuracy for this method is: \", (100*avg_pred_accuracy))"
      ],
      "execution_count": null,
      "outputs": [
        {
          "output_type": "stream",
          "text": [
            "The accuracy for this method is:  80.20293177177639\n"
          ],
          "name": "stdout"
        }
      ]
    },
    {
      "cell_type": "code",
      "metadata": {
        "id": "kIgCDnuBLx9w"
      },
      "source": [
        ""
      ],
      "execution_count": null,
      "outputs": []
    },
    {
      "cell_type": "markdown",
      "metadata": {
        "id": "Sr0hNJ7-Rou5"
      },
      "source": [
        "**Code Refactoring Point**"
      ]
    },
    {
      "cell_type": "code",
      "metadata": {
        "id": "19hxXUkELxg-"
      },
      "source": [
        ""
      ],
      "execution_count": null,
      "outputs": []
    },
    {
      "cell_type": "code",
      "metadata": {
        "id": "UZmUiztqLxdF"
      },
      "source": [
        ""
      ],
      "execution_count": null,
      "outputs": []
    },
    {
      "cell_type": "code",
      "metadata": {
        "id": "W1BR1poRLxYU"
      },
      "source": [
        ""
      ],
      "execution_count": null,
      "outputs": []
    },
    {
      "cell_type": "code",
      "metadata": {
        "id": "GnxjHCMNLw49"
      },
      "source": [
        ""
      ],
      "execution_count": null,
      "outputs": []
    }
  ]
}